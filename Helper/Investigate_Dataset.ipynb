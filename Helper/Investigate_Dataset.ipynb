{
 "cells": [
  {
   "cell_type": "markdown",
   "metadata": {},
   "source": [
    "# Project: Investigate a TMDb Movie Dataset \n",
    "\n",
    "## Table of Contents\n",
    "<ul>\n",
    "<li><a href=\"#intro\">Introduction</a></li>\n",
    "<li><a href=\"#wrangling\">Data Wrangling</a></li>\n",
    "<li><a href=\"#eda\">Exploratory Data Analysis</a></li>\n",
    "<li><a href=\"#conclusions\">Conclusions</a></li>\n",
    "</ul>"
   ]
  },
  {
   "cell_type": "markdown",
   "metadata": {
    "jp-MarkdownHeadingCollapsed": true
   },
   "source": [
    "<a id='intro'></a>\n",
    "## Introduction\n",
    "\n",
    "> This data set contains information about 10,000 movies collected from The Movie Database (TMDb), including user ratings and revenue,cast,release year.\n",
    "\n",
    "> Brief Description of each column in the dataset\n",
    "\n",
    "> **1.id** - Unique id's for each row\n",
    "\n",
    "> **2.imdb_id** - System generated unique id\n",
    "\n",
    "> **3.popularity** - popularity score \n",
    "\n",
    "> **4.budget** - budget in dollars\n",
    "\n",
    "> **5.revenue** - revenue in dollars\n",
    "\n",
    "> **6.original_title** - Movie title\n",
    "\n",
    "> **7.cast** - cast performed in movie\n",
    "\n",
    "> **8.homepage** - website link of movie\n",
    "\n",
    "> **9.director** - director name\n",
    "\n",
    "> **10.tagline** - tagline of movie\n",
    "\n",
    "> **11.keywords** - words used to give significant idea\n",
    "\n",
    "> **12.overview** - general review of movie\n",
    "\n",
    "> **13.runtime** - movie duration in seconds\n",
    "\n",
    "> **14.genres** - categories of movie\n",
    "\n",
    "> **15.production_companies** - company name which manages a movie process from start to finish\n",
    "\n",
    "> **16.release_date** - movie releasing date\n",
    "\n",
    "> **17.vote_count** - votes given by viewers\n",
    "\n",
    "> **18.vote_average** - average votes given by viewers\n",
    "\n",
    "> **19.release_year** - movie releasing year\n",
    "\n",
    "> **20.budget_adj**-budget in 2010 dollars,accounting for inflation\n",
    "\n",
    "> **21.revenue_adj** -revenue in 2010 dollars,accounting for inflation\n",
    "\n",
    "**Questions that I planned on exploring over the course of the report.**\n",
    "\n",
    "<ul>\n",
    "    \n",
    "<li><a href=\"#q1\">**1.What kind of  movie genres are made the most?**</a></li>\n",
    "\n",
    "<li><a href=\"#q2\">**2.Which genres are most popular from year to year?**</a></li>\n",
    "\n",
    "<li><a href=\"#q3\">**3.In which year most of the movies released?**</a></li>\n",
    "\n",
    "<li><a href=\"#q4\">**4.What kinds of properties are associated with movies that have high revenues.**</a></li>\n",
    "\n",
    "<li><a href=\"#q5\">**5. High Gross profit movies from year to year**</a></li>\n",
    "\n",
    "<li><a href=\"#q6\">**6. High Budget Movies from year to year.**</a></li>\n",
    "\n",
    "<li><a href=\"#q7\">**7.What are the months when most of the movies released?**</a></li>\n",
    "\n",
    "<li><a href=\"#q8\">**8.As per popularity score which actor / actress is most famous?**</a></li>\n",
    "\n",
    "<li><a href=\"#q9\">**9.As per popularity score which movie is most famous?**</a></li>\n",
    "\n",
    "<li><a href=\"#q10\">**10.As per Average vote score which movie is most famous?**</a></li>\n",
    "\n",
    "<li><a href=\"#q11\">**11.As per Average vote score which Actor/Actress is most famous?**</a></li>\n",
    "\n",
    "<li><a href=\"#q12\">**12.Movies which have earned highest revenue.**</a></li>\n",
    "\n",
    "<li><a href=\"#q13\">**13.Most Frequent Runtime of movies**</a></li>\n",
    "\n",
    "<li><a href=\"#q14\">**14.Most famous action directors**</a></li>\n",
    "\n",
    "<li><a href=\"#q15\">**15. Most famous Actors in Action genre.**</a></li>\n",
    "\n",
    "<li><a href=\"#q16\">**16.Which production companies have made most of the movies**</a></li>\n",
    "\n",
    "<li><a href=\"#q17\">**17.Most frequent Keywords used in every genres.**</a></li>\n",
    "\n",
    "<li><a href=\"#q18\">**18.Older or newer movies get more popularity score**</a></li>\n",
    "\n",
    "<li><a href=\"#q19\">**19.Visualization**</a></li>\n",
    "</ul>"
   ]
  },
  {
   "cell_type": "code",
   "execution_count": null,
   "metadata": {},
   "outputs": [],
   "source": [
    "import pandas as pd\n",
    "import numpy as np\n",
    "%matplotlib inline\n",
    "from matplotlib import pyplot as plt\n",
    "import seaborn as sns\n",
    "from wordcloud import WordCloud, STOPWORDS"
   ]
  },
  {
   "cell_type": "markdown",
   "metadata": {},
   "source": [
    "<a id='wrangling'></a>\n",
    "## Data Wrangling"
   ]
  },
  {
   "cell_type": "code",
   "execution_count": null,
   "metadata": {},
   "outputs": [],
   "source": [
    "#Read TMDb movie csv file\n",
    "tmdb_movies = pd.read_csv('tmdb-movies.csv')\n",
    "tmdb_movies.head()"
   ]
  },
  {
   "cell_type": "code",
   "execution_count": null,
   "metadata": {},
   "outputs": [],
   "source": [
    "tmdb_movies.shape"
   ]
  },
  {
   "cell_type": "markdown",
   "metadata": {},
   "source": [
    "### Let's get intuition of our data by checking its types,null values,duplicates."
   ]
  },
  {
   "cell_type": "code",
   "execution_count": null,
   "metadata": {},
   "outputs": [],
   "source": [
    "tmdb_movies.dtypes"
   ]
  },
  {
   "cell_type": "markdown",
   "metadata": {},
   "source": [
    "### We have to convert release_date column to datetime as it is in object type."
   ]
  },
  {
   "cell_type": "code",
   "execution_count": null,
   "metadata": {},
   "outputs": [],
   "source": [
    "tmdb_movies['release_date'] = pd.to_datetime(tmdb_movies['release_date'])"
   ]
  },
  {
   "cell_type": "markdown",
   "metadata": {},
   "source": [
    "### Confirm if changes are done as we want it tobe."
   ]
  },
  {
   "cell_type": "code",
   "execution_count": null,
   "metadata": {},
   "outputs": [],
   "source": [
    "tmdb_movies.dtypes"
   ]
  },
  {
   "cell_type": "markdown",
   "metadata": {},
   "source": [
    "### Let's get release month and weekday from release_date column"
   ]
  },
  {
   "cell_type": "code",
   "execution_count": null,
   "metadata": {},
   "outputs": [],
   "source": [
    "tmdb_movies['release_month'] = tmdb_movies['release_date'].dt.month\n",
    "tmdb_movies['release_day'] = tmdb_movies['release_date'].dt.weekday_name"
   ]
  },
  {
   "cell_type": "code",
   "execution_count": null,
   "metadata": {},
   "outputs": [],
   "source": [
    "tmdb_movies.describe()"
   ]
  },
  {
   "cell_type": "markdown",
   "metadata": {},
   "source": [
    "<a id='cleaning'></a>\n",
    "## Data Cleaning "
   ]
  },
  {
   "cell_type": "markdown",
   "metadata": {},
   "source": [
    ">## Dropping Columns:\n",
    ">#### I have collected month, weekday from release_date.that means release_date column does not contain any information which we dont have with us.\n",
    ">#### imdb_id column contains some system generated numbers which are not of our use much.\n",
    ">#### Similarly homepage data is also not very useful."
   ]
  },
  {
   "cell_type": "code",
   "execution_count": null,
   "metadata": {},
   "outputs": [],
   "source": [
    "tmdb_movies.drop(labels = ['imdb_id','homepage','release_date'],axis =1,inplace =True)"
   ]
  },
  {
   "cell_type": "code",
   "execution_count": null,
   "metadata": {},
   "outputs": [],
   "source": [
    "tmdb_movies.shape"
   ]
  },
  {
   "cell_type": "markdown",
   "metadata": {},
   "source": [
    "### Let us move forward to check if our data contains some duplicates & null values"
   ]
  },
  {
   "cell_type": "code",
   "execution_count": null,
   "metadata": {},
   "outputs": [],
   "source": [
    "sum(tmdb_movies.duplicated())"
   ]
  },
  {
   "cell_type": "code",
   "execution_count": null,
   "metadata": {},
   "outputs": [],
   "source": [
    "tmdb_movies.drop_duplicates(keep= 'first',inplace = True)"
   ]
  },
  {
   "cell_type": "code",
   "execution_count": null,
   "metadata": {},
   "outputs": [],
   "source": [
    "total = tmdb_movies.isnull().sum().sort_values(ascending = False)\n",
    "percent = ((tmdb_movies.isnull().sum() / tmdb_movies.shape[0])*100).sort_values(ascending = False)\n",
    "pd.concat([total,percent],axis = 1,keys = ['total','percent'])"
   ]
  },
  {
   "cell_type": "code",
   "execution_count": null,
   "metadata": {},
   "outputs": [],
   "source": [
    "tmdb_movies.isnull().sum()"
   ]
  },
  {
   "cell_type": "markdown",
   "metadata": {},
   "source": [
    "### It is better to drop null values."
   ]
  },
  {
   "cell_type": "code",
   "execution_count": null,
   "metadata": {},
   "outputs": [],
   "source": [
    "tmdb_movies.dropna(how = 'any',inplace = True)"
   ]
  },
  {
   "cell_type": "code",
   "execution_count": null,
   "metadata": {},
   "outputs": [],
   "source": [
    "tmdb_movies.shape"
   ]
  },
  {
   "cell_type": "markdown",
   "metadata": {},
   "source": [
    "### Checking if our dataset contains runtime of zero or less than zero "
   ]
  },
  {
   "cell_type": "code",
   "execution_count": null,
   "metadata": {},
   "outputs": [],
   "source": [
    "is_runtime_zero = tmdb_movies['runtime'] == 0\n",
    "tmdb_movies[is_runtime_zero].shape , tmdb_movies[is_runtime_zero].index.values"
   ]
  },
  {
   "cell_type": "code",
   "execution_count": null,
   "metadata": {},
   "outputs": [],
   "source": [
    "tmdb_movies[is_runtime_zero]"
   ]
  },
  {
   "cell_type": "markdown",
   "metadata": {},
   "source": [
    "### Probably above data might be fake or having typos errors because budget and revenue also contains zero value"
   ]
  },
  {
   "cell_type": "code",
   "execution_count": null,
   "metadata": {},
   "outputs": [],
   "source": [
    "tmdb_movies.drop(labels = [334,1289,1293], inplace = True)"
   ]
  },
  {
   "cell_type": "code",
   "execution_count": null,
   "metadata": {},
   "outputs": [],
   "source": [
    "tmdb_movies.shape"
   ]
  },
  {
   "cell_type": "markdown",
   "metadata": {},
   "source": [
    "### Our dataset contains lots of columns separted by '|' character. For better analysis I have decided to split them up."
   ]
  },
  {
   "cell_type": "code",
   "execution_count": null,
   "metadata": {},
   "outputs": [],
   "source": [
    "def separate(data):\n",
    "    return data.str[0:].str.split('|',expand = True)\n",
    "genres = separate(tmdb_movies['genres'])\n",
    "keywords = separate(tmdb_movies['keywords'])\n",
    "cast = separate(tmdb_movies['cast'])\n",
    "production_companies = separate(tmdb_movies['production_companies'])"
   ]
  },
  {
   "cell_type": "code",
   "execution_count": null,
   "metadata": {},
   "outputs": [],
   "source": [
    "genres.head()"
   ]
  },
  {
   "cell_type": "markdown",
   "metadata": {},
   "source": [
    "### My idea here is to split the data  by '|' character & then melt it to one single column.This way I will be able to get separate dataframes for each such column ('genres','cast','keywords','production_companies').So I can merge any of the two dataframes for answering question. "
   ]
  },
  {
   "cell_type": "markdown",
   "metadata": {},
   "source": [
    "### To acheive the desired result First of all copy the id column from tmdb_movies dataframe so that it would help me further to merge other dataframes on 'id' column."
   ]
  },
  {
   "cell_type": "code",
   "execution_count": null,
   "metadata": {},
   "outputs": [],
   "source": [
    "genres['id'] = tmdb_movies['id']\n",
    "cast['id'] = tmdb_movies['id']\n",
    "keywords['id'] = tmdb_movies['id']\n",
    "production_companies['id'] = tmdb_movies['id']\n",
    "    "
   ]
  },
  {
   "cell_type": "code",
   "execution_count": null,
   "metadata": {},
   "outputs": [],
   "source": [
    "genres.isnull().sum() , cast.isnull().sum(),keywords.isnull().sum(), production_companies.isnull().sum()"
   ]
  },
  {
   "cell_type": "code",
   "execution_count": null,
   "metadata": {},
   "outputs": [],
   "source": [
    "def melt_df(data ):\n",
    "    return pd.melt(data,col_level = 0,id_vars = 'id',value_vars = [0,1,2,3,4]) #keep id column apply merge on rest of the columns\n",
    "\n",
    "genres=melt_df(genres)\n",
    "cast = melt_df(cast)\n",
    "keywords = melt_df(keywords)\n",
    "production_companies = melt_df(production_companies)"
   ]
  },
  {
   "cell_type": "code",
   "execution_count": null,
   "metadata": {},
   "outputs": [],
   "source": [
    "genres.head()"
   ]
  },
  {
   "cell_type": "markdown",
   "metadata": {},
   "source": [
    "### As we can see above variable column is containing name of our columns before merging, which is absolutely not of our use now I have decided to drop 'variable' column"
   ]
  },
  {
   "cell_type": "code",
   "execution_count": null,
   "metadata": {},
   "outputs": [],
   "source": [
    "grouped_df = [genres,cast,keywords,production_companies]\n",
    "for df in grouped_df:\n",
    "    df.columns = ['id','variable','value']\n",
    "    df.drop(df.columns[1],axis=1, inplace=True)\n"
   ]
  },
  {
   "cell_type": "markdown",
   "metadata": {},
   "source": [
    "### Rename column of DataFrames"
   ]
  },
  {
   "cell_type": "code",
   "execution_count": null,
   "metadata": {},
   "outputs": [],
   "source": [
    "genres.rename(columns = {'value':'genres'},inplace = True)\n",
    "cast.rename(columns = {'value':'cast'},inplace = True)\n",
    "production_companies.rename(columns = {'value':'production_companies'},inplace = True)\n",
    "keywords.rename(columns = {'value':'keywords'},inplace = True)"
   ]
  },
  {
   "cell_type": "markdown",
   "metadata": {},
   "source": [
    "### Dropping all the null values"
   ]
  },
  {
   "cell_type": "code",
   "execution_count": null,
   "metadata": {},
   "outputs": [],
   "source": [
    "genres.dropna(inplace = True)\n",
    "cast.dropna(inplace = True)\n",
    "keywords.dropna(inplace = True)\n",
    "production_companies.dropna(inplace = True)\n"
   ]
  },
  {
   "cell_type": "markdown",
   "metadata": {},
   "source": [
    "### We have been able to make different DataFrames for each of the below columns So it would be good idea to drop from primary DataFrame"
   ]
  },
  {
   "cell_type": "code",
   "execution_count": null,
   "metadata": {},
   "outputs": [],
   "source": [
    "movies=tmdb_movies.drop(columns = ['cast','keywords','production_companies', 'genres'],axis = 1)"
   ]
  },
  {
   "cell_type": "code",
   "execution_count": null,
   "metadata": {},
   "outputs": [],
   "source": [
    "cast.head()"
   ]
  },
  {
   "cell_type": "code",
   "execution_count": null,
   "metadata": {},
   "outputs": [],
   "source": [
    "cast['cast'].value_counts()[0:10]"
   ]
  },
  {
   "cell_type": "markdown",
   "metadata": {},
   "source": [
    "### For Future reference saving all the csv files we just created."
   ]
  },
  {
   "cell_type": "code",
   "execution_count": null,
   "metadata": {},
   "outputs": [],
   "source": [
    "genres.to_csv('genres.csv',index = False)\n",
    "cast.to_csv('cast.csv',index = False)\n",
    "keywords.to_csv('keywords.csv',index = False)\n",
    "production_companies.to_csv('production_companies.csv',index = False)\n",
    "\n"
   ]
  },
  {
   "cell_type": "markdown",
   "metadata": {},
   "source": [
    "### To be more sure let us check if our DataFrames contains any duplicates"
   ]
  },
  {
   "cell_type": "code",
   "execution_count": null,
   "metadata": {},
   "outputs": [],
   "source": [
    "genres.isnull().sum() , cast.isnull().sum(), keywords.isnull().sum(),production_companies.isnull().sum()"
   ]
  },
  {
   "cell_type": "markdown",
   "metadata": {},
   "source": [
    "### Let us also check for any duplicates."
   ]
  },
  {
   "cell_type": "code",
   "execution_count": null,
   "metadata": {},
   "outputs": [],
   "source": [
    "sum(genres.duplicated()) , sum(cast.duplicated()) , sum(keywords.duplicated()) , sum(production_companies.duplicated())"
   ]
  },
  {
   "cell_type": "code",
   "execution_count": null,
   "metadata": {},
   "outputs": [],
   "source": [
    "cast.shape , genres.shape"
   ]
  },
  {
   "cell_type": "code",
   "execution_count": null,
   "metadata": {},
   "outputs": [],
   "source": [
    "cast.drop_duplicates(inplace = True) , production_companies.drop_duplicates(inplace = True)"
   ]
  },
  {
   "cell_type": "code",
   "execution_count": null,
   "metadata": {},
   "outputs": [],
   "source": [
    "movies.isnull().sum()"
   ]
  },
  {
   "cell_type": "markdown",
   "metadata": {},
   "source": [
    "### Here I have organised all the columns."
   ]
  },
  {
   "cell_type": "code",
   "execution_count": null,
   "metadata": {},
   "outputs": [],
   "source": [
    "movies = movies[['id','original_title','tagline', 'overview','runtime','release_day', 'release_month', 'release_year','popularity','vote_count','vote_average','director','budget','revenue','budget_adj','revenue_adj']]"
   ]
  },
  {
   "cell_type": "code",
   "execution_count": null,
   "metadata": {},
   "outputs": [],
   "source": [
    "movies.to_csv('clean_movies.csv',index = False)"
   ]
  },
  {
   "cell_type": "code",
   "execution_count": null,
   "metadata": {},
   "outputs": [],
   "source": [
    "movies.head()"
   ]
  },
  {
   "cell_type": "markdown",
   "metadata": {},
   "source": [
    "#### Final check for duplicates and null values."
   ]
  },
  {
   "cell_type": "code",
   "execution_count": null,
   "metadata": {},
   "outputs": [],
   "source": [
    "movies.isnull().sum()"
   ]
  },
  {
   "cell_type": "code",
   "execution_count": null,
   "metadata": {},
   "outputs": [],
   "source": [
    "sum(movies.duplicated())"
   ]
  },
  {
   "cell_type": "markdown",
   "metadata": {},
   "source": [
    "<a id='eda'></a>\n",
    "## Exploratory Data Analysis\n"
   ]
  },
  {
   "cell_type": "markdown",
   "metadata": {},
   "source": [
    "<a id='q1'></a>\n",
    "> ### 1.What kind of  movie genres are made the most? "
   ]
  },
  {
   "cell_type": "code",
   "execution_count": null,
   "metadata": {},
   "outputs": [],
   "source": [
    "genres['genres'].value_counts()"
   ]
  },
  {
   "cell_type": "markdown",
   "metadata": {},
   "source": [
    "### As we can see movies in Drama genre are made most of the times."
   ]
  },
  {
   "cell_type": "markdown",
   "metadata": {},
   "source": [
    "<a id='q2'></a>\n",
    "> ### 2.Which genres are most popular from year to year?"
   ]
  },
  {
   "cell_type": "markdown",
   "metadata": {},
   "source": [
    "#### I have merged two df's i.e. genres & movies then used groupby to get the value counts of genres again used groupby to get the most popular genre of every year."
   ]
  },
  {
   "cell_type": "code",
   "execution_count": null,
   "metadata": {},
   "outputs": [],
   "source": [
    "genres_movies = pd.merge(movies , genres , how = 'inner' , on = 'id')"
   ]
  },
  {
   "cell_type": "code",
   "execution_count": null,
   "metadata": {},
   "outputs": [],
   "source": [
    "grouped_data = genres_movies.groupby('release_year')['genres'].value_counts().reset_index(name = 'counts')"
   ]
  },
  {
   "cell_type": "code",
   "execution_count": null,
   "metadata": {},
   "outputs": [],
   "source": [
    "grouped_data.set_index('genres',inplace =True)"
   ]
  },
  {
   "cell_type": "code",
   "execution_count": null,
   "metadata": {},
   "outputs": [],
   "source": [
    "grouped_data.head()"
   ]
  },
  {
   "cell_type": "code",
   "execution_count": null,
   "metadata": {},
   "outputs": [],
   "source": [
    "grouped_data.groupby(['release_year'])['counts'].idxmax()"
   ]
  },
  {
   "cell_type": "markdown",
   "metadata": {},
   "source": [
    "### Drama,Comedy are most popular genres from year to year."
   ]
  },
  {
   "cell_type": "markdown",
   "metadata": {},
   "source": [
    "<a id='q3'></a>\n",
    "> ### 3. In which year most of the movies released?"
   ]
  },
  {
   "cell_type": "code",
   "execution_count": null,
   "metadata": {},
   "outputs": [],
   "source": [
    "movies['release_year'].value_counts()[0:10]"
   ]
  },
  {
   "cell_type": "markdown",
   "metadata": {},
   "source": [
    "<a id='q4'></a>\n",
    "> ### 4.What kinds of properties are associated with movies that have high revenues."
   ]
  },
  {
   "cell_type": "markdown",
   "metadata": {},
   "source": [
    "### I am going check if high revenue depends on particular cast,genres, production companies."
   ]
  },
  {
   "cell_type": "code",
   "execution_count": null,
   "metadata": {},
   "outputs": [],
   "source": [
    "# to calculate gross profit subtract revenue from budget\n",
    "movies['gross_profit_adj'] = movies['revenue_adj'].sub(movies['budget_adj'],axis = 'index')"
   ]
  },
  {
   "cell_type": "markdown",
   "metadata": {},
   "source": [
    "### To calculate gross profit I have subtracted budget_adj from revenue_adj & as the gross_profit earned in 2006 won't be of same value as 2015 so to have them all on same plane I decided to standardize gross_profit_adj ,revenue_adj & budget_adj."
   ]
  },
  {
   "cell_type": "code",
   "execution_count": null,
   "metadata": {},
   "outputs": [],
   "source": [
    "#In order to get the proper computations,we should actually be setting the value of the \"ddof\" parameter to 0 in  the .std() function \n",
    "                                              \n",
    "def standardize(df):\n",
    "    return (df - df.mean()) / df.std(ddof = 0) "
   ]
  },
  {
   "cell_type": "code",
   "execution_count": null,
   "metadata": {},
   "outputs": [],
   "source": [
    "movies[['budget_adj', 'revenue_adj', 'gross_profit_adj']]=movies[['budget_adj',\n",
    "                                                                  'revenue_adj', 'gross_profit_adj']].apply(standardize)"
   ]
  },
  {
   "cell_type": "code",
   "execution_count": null,
   "metadata": {},
   "outputs": [],
   "source": [
    "movies.loc[:,['budget_adj' , 'revenue_adj' , 'gross_profit_adj']].head()"
   ]
  },
  {
   "cell_type": "code",
   "execution_count": null,
   "metadata": {},
   "outputs": [],
   "source": [
    "movies['gross_profit_adj'].isnull().sum()"
   ]
  },
  {
   "cell_type": "markdown",
   "metadata": {},
   "source": [
    "### As we have added new column gross_profit_adj I am merging again."
   ]
  },
  {
   "cell_type": "code",
   "execution_count": null,
   "metadata": {},
   "outputs": [],
   "source": [
    "genres_movies = pd.merge(movies , genres , how = 'inner' , on = 'id')"
   ]
  },
  {
   "cell_type": "markdown",
   "metadata": {},
   "source": [
    "> ### 4a. What are the genres contribute to earn higher revenues."
   ]
  },
  {
   "cell_type": "code",
   "execution_count": null,
   "metadata": {},
   "outputs": [],
   "source": [
    "grouped_by_genres=genres_movies.groupby('genres').sum() #group data by genres"
   ]
  },
  {
   "cell_type": "code",
   "execution_count": null,
   "metadata": {},
   "outputs": [],
   "source": [
    "#sort according to gross profit but in a descending order to get highest on the top.\n",
    "grouped_by_genres.sort_values(by = 'gross_profit_adj',ascending = False).loc[:,'gross_profit_adj'][0:10] "
   ]
  },
  {
   "cell_type": "markdown",
   "metadata": {},
   "source": [
    "### I beleive result has got these genres particularly because their budget would be higher as well.I will also check for higher budget genres."
   ]
  },
  {
   "cell_type": "code",
   "execution_count": null,
   "metadata": {},
   "outputs": [],
   "source": [
    "grouped_by_genres.sort_values(by ='budget_adj',ascending = False).loc[:,'budget_adj'][0:10]"
   ]
  },
  {
   "cell_type": "markdown",
   "metadata": {},
   "source": [
    "### It shows my assumption particulary goes right we will also check for the popularity score of top genres."
   ]
  },
  {
   "cell_type": "markdown",
   "metadata": {},
   "source": [
    "### Drama is the most popular genre over the years as we just saw but it's intersting to see that it couldnt even come in top 10 genres of getting a high revenue"
   ]
  },
  {
   "cell_type": "code",
   "execution_count": null,
   "metadata": {},
   "outputs": [],
   "source": [
    "#top genres by popularity score\n",
    "grouped_by_genres.sort_values(by = 'popularity',ascending = False).loc[:,'popularity'][0:10]"
   ]
  },
  {
   "cell_type": "markdown",
   "metadata": {},
   "source": [
    "### Does there any relationship of popularity & Gross Profit."
   ]
  },
  {
   "cell_type": "code",
   "execution_count": null,
   "metadata": {},
   "outputs": [],
   "source": [
    "plt.figure(figsize = (12,9));\n",
    "sns.lmplot(x = 'gross_profit_adj' , y = 'popularity', data = genres_movies);\n",
    "plt.xlabel('Gross Profit' , fontsize = 18);\n",
    "plt.ylabel('Popularity', fontsize =18);\n",
    "plt.title('Gross Profit Vs popularity',fontsize = 18);"
   ]
  },
  {
   "cell_type": "markdown",
   "metadata": {},
   "source": [
    " "
   ]
  },
  {
   "cell_type": "markdown",
   "metadata": {},
   "source": [
    "### No strong relationship between gross profit & popularity scores."
   ]
  },
  {
   "cell_type": "markdown",
   "metadata": {},
   "source": [
    "> ### 4b. Who are the directors contributing to high revenue movies?"
   ]
  },
  {
   "cell_type": "code",
   "execution_count": null,
   "metadata": {},
   "outputs": [],
   "source": [
    "movies.groupby('director').sum().sort_values(by = 'gross_profit_adj',ascending = False)['gross_profit_adj'][0:10]"
   ]
  },
  {
   "cell_type": "markdown",
   "metadata": {},
   "source": [
    "> ### 4c. What are the production comapnies which were able to make high revenues."
   ]
  },
  {
   "cell_type": "code",
   "execution_count": null,
   "metadata": {},
   "outputs": [],
   "source": [
    "movies_prod_companies = pd.merge(movies,production_companies , how = 'inner', on = 'id')"
   ]
  },
  {
   "cell_type": "code",
   "execution_count": null,
   "metadata": {},
   "outputs": [],
   "source": [
    "movies_prod_companies.groupby('production_companies').sum().sort_values(by= 'gross_profit_adj',ascending = False)['gross_profit_adj'][0:10]"
   ]
  },
  {
   "cell_type": "markdown",
   "metadata": {},
   "source": [
    "> ### 4d. What Actors/Actress are able to  make high revenues."
   ]
  },
  {
   "cell_type": "code",
   "execution_count": null,
   "metadata": {},
   "outputs": [],
   "source": [
    "movies_cast = pd.merge(movies,cast,how = 'inner' , on = 'id')"
   ]
  },
  {
   "cell_type": "code",
   "execution_count": null,
   "metadata": {},
   "outputs": [],
   "source": [
    "movies_cast.groupby('cast').sum().sort_values(by = 'gross_profit_adj',ascending = False)['gross_profit_adj'][0:10]"
   ]
  },
  {
   "cell_type": "markdown",
   "metadata": {},
   "source": [
    "<a id='q5'></a>\n",
    "> ### 5. High Gross profit movies from year to year."
   ]
  },
  {
   "cell_type": "code",
   "execution_count": null,
   "metadata": {},
   "outputs": [],
   "source": [
    "def sort_by_gross_profit(df):\n",
    "    return df.sort_values(by = 'gross_profit_adj',ascending = False)['original_title'].head(1)\n"
   ]
  },
  {
   "cell_type": "code",
   "execution_count": null,
   "metadata": {},
   "outputs": [],
   "source": [
    "movies.groupby('release_year').apply(sort_by_gross_profit)"
   ]
  },
  {
   "cell_type": "markdown",
   "metadata": {},
   "source": [
    "<a id='q6'></a>\n",
    "> ### 6. High Budget Movies from year to year."
   ]
  },
  {
   "cell_type": "code",
   "execution_count": null,
   "metadata": {},
   "outputs": [],
   "source": [
    "def sort_by_budget(df):\n",
    "    return df.sort_values(by = 'budget_adj',ascending = False)['original_title'].head(1)\n"
   ]
  },
  {
   "cell_type": "code",
   "execution_count": null,
   "metadata": {},
   "outputs": [],
   "source": [
    "movies.groupby('release_year').apply(sort_by_budget)"
   ]
  },
  {
   "cell_type": "markdown",
   "metadata": {},
   "source": [
    "<a id='q7'></a>\n",
    "> ### 7. What are the months when most of the movies released?"
   ]
  },
  {
   "cell_type": "code",
   "execution_count": null,
   "metadata": {},
   "outputs": [],
   "source": [
    "movies['release_month'].value_counts()[0:10]"
   ]
  },
  {
   "cell_type": "markdown",
   "metadata": {},
   "source": [
    "<a id='q8'></a>\n",
    "> ### 8. As per popularity score which actor / actress is most famous?"
   ]
  },
  {
   "cell_type": "code",
   "execution_count": null,
   "metadata": {},
   "outputs": [],
   "source": [
    "movies_cast = pd.merge(movies , cast , how = 'inner' , on= 'id') #Merge movies cast DataFrame on id"
   ]
  },
  {
   "cell_type": "code",
   "execution_count": null,
   "metadata": {},
   "outputs": [],
   "source": [
    "movies_cast.groupby('cast').sum().sort_values(by = 'popularity' , ascending = False ).loc[:,'popularity'][0:10]"
   ]
  },
  {
   "cell_type": "markdown",
   "metadata": {},
   "source": [
    "<a id='q9'></a>\n",
    "> ### 9. As per popularity score which movie is most famous?"
   ]
  },
  {
   "cell_type": "code",
   "execution_count": null,
   "metadata": {},
   "outputs": [],
   "source": [
    "movies.sort_values(by = 'popularity', ascending = False).loc[:,['popularity','original_title']][0:10]"
   ]
  },
  {
   "cell_type": "markdown",
   "metadata": {},
   "source": [
    "<a id='q10'></a>\n",
    "> ### 10. As per Average vote score which movie is most famous?"
   ]
  },
  {
   "cell_type": "code",
   "execution_count": null,
   "metadata": {},
   "outputs": [],
   "source": [
    "movies.sort_values(by = 'vote_average' ,ascending = False).loc[:,['vote_average','original_title']][0:10]"
   ]
  },
  {
   "cell_type": "markdown",
   "metadata": {},
   "source": [
    "<a id='q11'></a>\n",
    "> ### 11. As per Average vote score which Actor/Actress is most famous?"
   ]
  },
  {
   "cell_type": "code",
   "execution_count": null,
   "metadata": {},
   "outputs": [],
   "source": [
    "movies_cast.sort_values(by = 'vote_average' ,ascending = False).loc[:,['vote_average','cast']][0:10]"
   ]
  },
  {
   "cell_type": "markdown",
   "metadata": {},
   "source": [
    "<a id='q12'></a>\n",
    "> ### 12. Movies which have earned highest revenue."
   ]
  },
  {
   "cell_type": "code",
   "execution_count": null,
   "metadata": {},
   "outputs": [],
   "source": [
    "movies.sort_values(by = 'gross_profit_adj',ascending = False).loc[:,['gross_profit_adj', 'original_title']][0:10]"
   ]
  },
  {
   "cell_type": "markdown",
   "metadata": {},
   "source": [
    "<a id='q13'></a>\n",
    "> ### 13. Most Frequent Runtime of movies "
   ]
  },
  {
   "cell_type": "code",
   "execution_count": null,
   "metadata": {},
   "outputs": [],
   "source": [
    "sns.kdeplot(movies['runtime'], shade = True, color = 'r');\n",
    "plt.xlabel('Runtime in seconds',fontsize = 18);\n",
    "\n",
    "plt.title('Most Frequent Runtime of movies', fontsize = 18);"
   ]
  },
  {
   "cell_type": "markdown",
   "metadata": {},
   "source": [
    "\n",
    "### Typically movies have runtime from 90 secs to 150 sec"
   ]
  },
  {
   "cell_type": "code",
   "execution_count": null,
   "metadata": {},
   "outputs": [],
   "source": [
    "binval = np.arange(0,200,5)\n",
    "plt.hist(movies['runtime'],bins = binval);\n"
   ]
  },
  {
   "cell_type": "markdown",
   "metadata": {},
   "source": [
    "<a id='q14'></a>\n",
    "> ### 14. Most famous action directors"
   ]
  },
  {
   "cell_type": "code",
   "execution_count": null,
   "metadata": {},
   "outputs": [],
   "source": [
    "action=genres_movies[genres_movies['genres'] == 'Action'] #filter dataframe by Action Genre"
   ]
  },
  {
   "cell_type": "code",
   "execution_count": null,
   "metadata": {},
   "outputs": [],
   "source": [
    "#Use groupby to sum up by director & then sort by gross profit in descending order \n",
    "action.groupby('director').sum().sort_values(by = 'gross_profit_adj',ascending = False)['gross_profit_adj'][0:10]"
   ]
  },
  {
   "cell_type": "markdown",
   "metadata": {},
   "source": [
    "<a id='q15'></a>\n",
    "> ### 15. Most famous Actors in Action genre. "
   ]
  },
  {
   "cell_type": "code",
   "execution_count": null,
   "metadata": {},
   "outputs": [],
   "source": [
    "genres_movies_cast = pd.merge(genres_movies,cast,how = 'inner', on = 'id') #merge dataframe genre_movies & cast"
   ]
  },
  {
   "cell_type": "code",
   "execution_count": null,
   "metadata": {},
   "outputs": [],
   "source": [
    "#filter data by Action genere\n",
    "action_cast=genres_movies_cast[genres_movies_cast['genres'] == 'Action']"
   ]
  },
  {
   "cell_type": "code",
   "execution_count": null,
   "metadata": {},
   "outputs": [],
   "source": [
    "#group the data by cast take sum of it & then sort it accoring to popularity score in descending order.\n",
    "action_cast.groupby('cast').sum().sort_values(by = 'popularity', ascending = False)['popularity'][0:10]"
   ]
  },
  {
   "cell_type": "code",
   "execution_count": null,
   "metadata": {},
   "outputs": [],
   "source": [
    "genres_cast = pd.merge(genres,cast, how = 'inner', on = 'id')"
   ]
  },
  {
   "cell_type": "markdown",
   "metadata": {},
   "source": [
    "<a id='q16'></a>\n",
    "> ### 16. Which production companies have made most of the movies"
   ]
  },
  {
   "cell_type": "code",
   "execution_count": null,
   "metadata": {},
   "outputs": [],
   "source": [
    "movies_prod_companies['production_companies'].value_counts()[0:10]"
   ]
  },
  {
   "cell_type": "markdown",
   "metadata": {},
   "source": [
    "<a id='q17'></a>\n",
    "> ### 17.Most frequent Keywords used in every genres."
   ]
  },
  {
   "cell_type": "code",
   "execution_count": null,
   "metadata": {},
   "outputs": [],
   "source": [
    "movies_key = pd.merge(movies , keywords , how = 'inner' , on = 'id')"
   ]
  },
  {
   "cell_type": "markdown",
   "metadata": {},
   "source": [
    "### I have merged two DataFrames for answering my question."
   ]
  },
  {
   "cell_type": "code",
   "execution_count": null,
   "metadata": {},
   "outputs": [],
   "source": [
    "genres_keywords = pd.merge(genres , keywords , how = 'inner', on = 'id')"
   ]
  },
  {
   "cell_type": "code",
   "execution_count": null,
   "metadata": {},
   "outputs": [],
   "source": [
    "genres_keywords.head(10)"
   ]
  },
  {
   "cell_type": "markdown",
   "metadata": {},
   "source": [
    "\n"
   ]
  },
  {
   "cell_type": "markdown",
   "metadata": {},
   "source": [
    "\n",
    "###  Most common keywords used in all the genres"
   ]
  },
  {
   "cell_type": "code",
   "execution_count": null,
   "metadata": {},
   "outputs": [],
   "source": [
    "keywords['keywords'].value_counts()[0:10]"
   ]
  },
  {
   "cell_type": "markdown",
   "metadata": {},
   "source": [
    "### It would be good idea to the keywords in visualization for better understanding.I will do that in further sections"
   ]
  },
  {
   "cell_type": "markdown",
   "metadata": {},
   "source": [
    "<a id='q18'></a>\n",
    "> ### 18. Older or newer movies get more popularity score "
   ]
  },
  {
   "cell_type": "code",
   "execution_count": null,
   "metadata": {},
   "outputs": [],
   "source": [
    "#group data by release year take the median of all the numeric columns\n",
    "groupby_year=movies.groupby('release_year').median()"
   ]
  },
  {
   "cell_type": "code",
   "execution_count": null,
   "metadata": {},
   "outputs": [],
   "source": [
    "#get release year column back into dataframe for visualization\n",
    "groupby_year['release_year'] = groupby_year.index.get_level_values(0)"
   ]
  },
  {
   "cell_type": "code",
   "execution_count": null,
   "metadata": {},
   "outputs": [],
   "source": [
    "plt.figure(figsize = (13,9)) #set a figure size\n",
    "sns.lmplot(x = 'release_year', y = 'popularity', data = groupby_year); #plot a lineplot \n",
    "#gives names to x-axis , y-axis & the title\n",
    "plt.xlabel('Release Year', fontsize = 15); \n",
    "plt.ylabel('Popularity', fontsize = 15);\n",
    "plt.title('Release Year Vs Popularity ',fontsize = 15);"
   ]
  },
  {
   "cell_type": "markdown",
   "metadata": {},
   "source": [
    "### This visulaization clearly shows recent Year movies are more popular than older movies."
   ]
  },
  {
   "cell_type": "markdown",
   "metadata": {},
   "source": [
    "<a id='q17'></a>\n",
    "## Visualization"
   ]
  },
  {
   "cell_type": "markdown",
   "metadata": {},
   "source": [
    "> ### Plot Most Famous genres over the years"
   ]
  },
  {
   "cell_type": "code",
   "execution_count": null,
   "metadata": {},
   "outputs": [],
   "source": [
    "plt.figure(figsize = (10,6)) #set a figure size\n",
    "ax = sns.countplot(x=\"genres\", data= genres, order = genres['genres'].value_counts().index) #plots bar graph for genres\n",
    "#rotate x-tick labels\n",
    "ax.set_xticklabels(ax.get_xticklabels(), rotation=40, ha=\"right\",fontsize = 13)\n",
    "plt.tight_layout()\n",
    "#gives names to x-axis , y-axis & the title\n",
    "plt.xlabel('Genres' , fontsize = 30)\n",
    "plt.ylabel('Counts' , fontsize = 30)\n",
    "plt.title('Genres counts over the years',fontsize = 30)\n",
    "plt.show()"
   ]
  },
  {
   "cell_type": "markdown",
   "metadata": {},
   "source": [
    "### Graph depicts Drama,Comedy,Thriller,Action & Horror are most popular genres over the years. "
   ]
  },
  {
   "cell_type": "markdown",
   "metadata": {},
   "source": [
    "#### Using wordcloud"
   ]
  },
  {
   "cell_type": "code",
   "execution_count": null,
   "metadata": {},
   "outputs": [],
   "source": [
    "plt.figure(figsize = (9,9))\n",
    "stopwords = set(STOPWORDS)\n",
    "tagline_cloud = WordCloud(width=800, height=400,background_color=\"white\",max_words=30,stopwords=stopwords).generate(' '.join(genres['genres']))\n",
    "\n",
    "# Generate plot\n",
    "\n",
    "plt.axis(\"off\")\n",
    "plt.imshow(tagline_cloud)\n",
    "plt.show()\n"
   ]
  },
  {
   "cell_type": "markdown",
   "metadata": {},
   "source": [
    "### We can observe here that the most popular genres are Drama,Comedy, Thriller, Action, Adventure, Romance, Horror."
   ]
  },
  {
   "cell_type": "markdown",
   "metadata": {},
   "source": [
    "> ### Most famous movies by popularity score."
   ]
  },
  {
   "cell_type": "code",
   "execution_count": null,
   "metadata": {},
   "outputs": [],
   "source": [
    "movies_sorted_by_popularity = movies.sort_values(by = 'popularity', ascending = False)[0:10]"
   ]
  },
  {
   "cell_type": "code",
   "execution_count": null,
   "metadata": {},
   "outputs": [],
   "source": [
    "plt.figure(figsize = (10,6)) #set a figure size\n",
    "ax=sns.barplot(x = 'original_title' , y = 'popularity', data =movies_sorted_by_popularity) #plots bar graph for movies title by popularity\n",
    "#rotate xtick labels by 40 degrees\n",
    "ax.set_xticklabels(ax.get_xticklabels(), rotation=40, ha=\"right\",fontsize = 12)\n",
    "plt.tight_layout()\n",
    "#gives names to x-axis , y-axis & the title\n",
    "plt.xlabel('Movies' , fontsize = 30)\n",
    "plt.ylabel('Popularity Score' , fontsize = 30)\n",
    "plt.title('Most famous Movies',fontsize = 30)\n",
    "plt.show()"
   ]
  },
  {
   "cell_type": "markdown",
   "metadata": {},
   "source": [
    "### We can observe Jurassic world is most famous movie as per popularity score"
   ]
  },
  {
   "cell_type": "code",
   "execution_count": null,
   "metadata": {},
   "outputs": [],
   "source": [
    "movies_sortedby_popularity = movies.sort_values(by = 'popularity', ascending = False).tail(10)"
   ]
  },
  {
   "cell_type": "markdown",
   "metadata": {},
   "source": [
    "#### I am considering movies which have got less popularity score are the flop movies."
   ]
  },
  {
   "cell_type": "code",
   "execution_count": null,
   "metadata": {},
   "outputs": [],
   "source": [
    "plt.figure(figsize = (10,6))\n",
    "#plots a bar plot for movie title by popularity score\n",
    "ax=sns.barplot(x = 'original_title' , y = 'popularity', data =movies_sortedby_popularity)\n",
    "#rotate Xtick labels\n",
    "ax.set_xticklabels(ax.get_xticklabels(), rotation=40, ha=\"right\",fontsize = 12)\n",
    "plt.tight_layout()\n",
    "plt.xlabel('Movies' , fontsize = 30)\n",
    "plt.ylabel('Popularity Score' , fontsize = 30)\n",
    "plt.title('Flop Movies',fontsize = 30)\n",
    "plt.show()"
   ]
  },
  {
   "cell_type": "markdown",
   "metadata": {},
   "source": [
    "### We can observe Least popular movie is 'The Hospital'."
   ]
  },
  {
   "cell_type": "markdown",
   "metadata": {},
   "source": [
    "> ### Graph for Average votes received by each genres"
   ]
  },
  {
   "cell_type": "code",
   "execution_count": null,
   "metadata": {},
   "outputs": [],
   "source": [
    "#set a figure size\n",
    "fig, ax = plt.subplots() \n",
    "fig.set_size_inches(12, 8)\n",
    "sns.violinplot(x = 'genres' , y = 'vote_average' , data =genres_movies);\n",
    "\n",
    "#gives names to x-axis , y-axis & the title\n",
    "plt.xlabel('Genres',fontsize = 18);\n",
    "plt.ylabel('Average Votes',fontsize = 18);\n",
    "plt.title('Genres Vs Average Votes', fontsize = 18)\n",
    "plt.xticks(rotation = 25);"
   ]
  },
  {
   "cell_type": "markdown",
   "metadata": {},
   "source": [
    "### Most common Average vote is from 5 to 7.50.average votes for Documentary lies in between 6.5 to 7.5 which is highest among all the genres & Horror is having most spreadout votes."
   ]
  },
  {
   "cell_type": "markdown",
   "metadata": {},
   "source": [
    "> ### Plot a graph for Number of movies released every month"
   ]
  },
  {
   "cell_type": "code",
   "execution_count": null,
   "metadata": {},
   "outputs": [],
   "source": [
    "#set a figure size\n",
    "plt.figure(figsize = (12,8))\n",
    "#Bar plot for no.of movies released every month\n",
    "ax=sns.countplot(x = 'release_month', data = movies,order = movies['release_month'].value_counts().index);\n",
    "#rotate x ticklabels\n",
    "ax.set_xticklabels(ax.get_xticklabels(),rotation = 40, ha= 'right', fontsize = 12);\n",
    "#gives names to x-axis , y-axis & the title\n",
    "plt.xlabel('Release Month', fontsize = 18);\n",
    "plt.ylabel('Frequency',fontsize = 18);\n",
    "plt.title('No.of Movies released every month',fontsize = 18);"
   ]
  },
  {
   "cell_type": "markdown",
   "metadata": {},
   "source": [
    "### Top 5 release months are September,October,December ,August,June"
   ]
  },
  {
   "cell_type": "markdown",
   "metadata": {},
   "source": [
    "> ### Plot a graph for number of movies released every year"
   ]
  },
  {
   "cell_type": "code",
   "execution_count": null,
   "metadata": {},
   "outputs": [],
   "source": [
    "#set a figure size\n",
    "plt.figure(figsize = (12,8))\n",
    "#bar plot for no.movies released every year\n",
    "ax=sns.countplot(x = 'release_year', data = movies, order = movies['release_year'].value_counts().index);\n",
    "#Rotate xticklabels\n",
    "ax.set_xticklabels(ax.get_xticklabels(),rotation = 40, ha= 'right', fontsize = 7.6);\n",
    "#Give label to x-axis,y-axis & a title\n",
    "plt.xlabel('Release year', fontsize = 18);\n",
    "plt.ylabel('Frequency',fontsize = 18);\n",
    "plt.title('No.of Movies released every year',fontsize = 18);"
   ]
  },
  {
   "cell_type": "markdown",
   "metadata": {},
   "source": [
    "### Maximum released movies are in 2014 followed by 2013,2015,2009,2011 & the lowest is 1969.This graph also gives us an idea that more number of movies have been released over the years.\n"
   ]
  },
  {
   "cell_type": "markdown",
   "metadata": {},
   "source": [
    "> ### Graph for High profit earning cast."
   ]
  },
  {
   "cell_type": "code",
   "execution_count": null,
   "metadata": {},
   "outputs": [],
   "source": [
    "#group data frame by cast & sort by gross profit in descending order.\n",
    "movies_cast_sortedby_grossprofit=movies_cast.groupby('cast').sum().sort_values(by = 'gross_profit_adj' , ascending = False )[0:10]"
   ]
  },
  {
   "cell_type": "code",
   "execution_count": null,
   "metadata": {},
   "outputs": [],
   "source": [
    "#get cast column back in dataframe\n",
    "movies_cast_sortedby_grossprofit['cast'] = movies_cast_sortedby_grossprofit.index.get_level_values(0)"
   ]
  },
  {
   "cell_type": "code",
   "execution_count": null,
   "metadata": {},
   "outputs": [],
   "source": [
    "#set figure size\n",
    "plt.figure(figsize=(10,8))\n",
    "ab=sns.barplot(x = 'cast', y ='gross_profit_adj',data =movies_cast_sortedby_grossprofit );\n",
    "#Rotate Xtick labels\n",
    "ab.set_xticklabels(ab.get_xticklabels(),rotation = 40, ha ='right', fontsize = 12 );\n",
    "#Give labels to axis\n",
    "plt.xlabel('Cast', fontsize = 18);\n",
    "plt.ylabel('Gross Profit', fontsize = 18);\n",
    "plt.title('High Profit earning cast', fontsize = 18);"
   ]
  },
  {
   "cell_type": "markdown",
   "metadata": {},
   "source": [
    "### Harrison Ford has made highest gross profit among all."
   ]
  },
  {
   "cell_type": "markdown",
   "metadata": {},
   "source": [
    "> ### Plot a graph for Most Famous Actors by Popularity score"
   ]
  },
  {
   "cell_type": "code",
   "execution_count": null,
   "metadata": {},
   "outputs": [],
   "source": [
    "#group data frame by cast sort it according to popularity score in descending score\n",
    "movies_cast_sortedby_popularity=movies_cast.groupby('cast').sum().sort_values(by = 'popularity' , ascending = False )[0:10]"
   ]
  },
  {
   "cell_type": "code",
   "execution_count": null,
   "metadata": {},
   "outputs": [],
   "source": [
    "#get cast column back in dataframe \n",
    "movies_cast_sortedby_popularity['cast'] = movies_cast_sortedby_popularity.index.get_level_values(0)"
   ]
  },
  {
   "cell_type": "code",
   "execution_count": null,
   "metadata": {},
   "outputs": [],
   "source": [
    "#set figure size\n",
    "plt.figure(figsize=(10,8))\n",
    "ab=sns.barplot(x = 'cast', y ='popularity',data =movies_cast_sortedby_popularity );\n",
    "#Rotate x tick labels\n",
    "ab.set_xticklabels(ab.get_xticklabels(),rotation = 40, ha ='right', fontsize = 12 );\n",
    "#Give labels to axis\n",
    "plt.xlabel('Cast', fontsize = 18);\n",
    "plt.ylabel('Popularity Score', fontsize = 18);\n",
    "plt.title('Most Famous Actors by Popularity Score', fontsize = 18);"
   ]
  },
  {
   "cell_type": "markdown",
   "metadata": {},
   "source": [
    "### Top 3 Most popular actors are Samuel L. Jackson,Micheal Caine, Harrison Ford."
   ]
  },
  {
   "cell_type": "code",
   "execution_count": null,
   "metadata": {},
   "outputs": [],
   "source": [
    "genres_movies_cast.head(1)"
   ]
  },
  {
   "cell_type": "markdown",
   "metadata": {},
   "source": [
    "### As drama is the most popular genre I will try pull the data for actors,directors, production comapnies by popularity score who have done most drama movies."
   ]
  },
  {
   "cell_type": "code",
   "execution_count": null,
   "metadata": {},
   "outputs": [],
   "source": [
    "drama = genres_movies_cast[genres_movies_cast['genres'] == 'Drama']"
   ]
  },
  {
   "cell_type": "code",
   "execution_count": null,
   "metadata": {},
   "outputs": [],
   "source": [
    "drama_sorted_by_popularity=drama.groupby('cast').sum().sort_values(by = 'popularity', ascending = False)[0:10]"
   ]
  },
  {
   "cell_type": "code",
   "execution_count": null,
   "metadata": {},
   "outputs": [],
   "source": [
    "drama_sorted_by_popularity['cast'] = drama_sorted_by_popularity.index.get_level_values(0)"
   ]
  },
  {
   "cell_type": "code",
   "execution_count": null,
   "metadata": {},
   "outputs": [],
   "source": [
    "#set figure size\n",
    "plt.figure(figsize=(10,8))\n",
    "ab=sns.barplot(x = 'cast', y ='popularity',data= drama_sorted_by_popularity);\n",
    "#Rotate x tick labels\n",
    "ab.set_xticklabels(ab.get_xticklabels(),rotation = 40, ha ='right', fontsize = 12 );\n",
    "#Give labels to axis\n",
    "plt.xlabel('Cast', fontsize = 18);\n",
    "plt.ylabel('Popularity Score', fontsize = 18);\n",
    "plt.title('Most Famous Actors in Drama by Popularity Score', fontsize = 18);"
   ]
  },
  {
   "cell_type": "markdown",
   "metadata": {},
   "source": [
    "### Top 3 Most Popular Actors in Drama are Micheal Caine, Leonardo DiCaprio, Brad Pitt"
   ]
  },
  {
   "cell_type": "code",
   "execution_count": null,
   "metadata": {},
   "outputs": [],
   "source": [
    "sorted_by_popularity=drama.groupby('original_title').sum().sort_values(by = 'popularity', ascending = False)[0:10]"
   ]
  },
  {
   "cell_type": "code",
   "execution_count": null,
   "metadata": {},
   "outputs": [],
   "source": [
    "sorted_by_popularity['original_title'] =sorted_by_popularity.index.get_level_values(0)"
   ]
  },
  {
   "cell_type": "code",
   "execution_count": null,
   "metadata": {},
   "outputs": [],
   "source": [
    "#set figure size\n",
    "plt.figure(figsize=(10,8))\n",
    "ab=sns.barplot(x = 'original_title', y ='popularity',data= sorted_by_popularity);\n",
    "#Rotate Xtick labels\n",
    "ab.set_xticklabels(ab.get_xticklabels(),rotation = 40, ha ='right', fontsize = 12 );\n",
    "#Give labels to axis\n",
    "plt.xlabel('Movies', fontsize = 18);\n",
    "plt.ylabel('Popularity Score', fontsize = 18);\n",
    "plt.title('Most Famous Movies in Drama by Popularity Score', fontsize = 18);"
   ]
  },
  {
   "cell_type": "markdown",
   "metadata": {},
   "source": [
    "### This graph shows Most Popular Movie in Drama is Interstellar"
   ]
  },
  {
   "cell_type": "code",
   "execution_count": null,
   "metadata": {},
   "outputs": [],
   "source": [
    "director_sorted_by_popularity=drama.groupby('director').sum().sort_values(by = 'popularity', ascending = False)[0:10]"
   ]
  },
  {
   "cell_type": "code",
   "execution_count": null,
   "metadata": {},
   "outputs": [],
   "source": [
    "director_sorted_by_popularity['director'] =director_sorted_by_popularity.index.get_level_values(0)"
   ]
  },
  {
   "cell_type": "code",
   "execution_count": null,
   "metadata": {},
   "outputs": [],
   "source": [
    "#set figure size\n",
    "plt.figure(figsize=(10,8))\n",
    "ab=sns.barplot(x = 'director', y ='popularity',data=director_sorted_by_popularity);\n",
    "#Rotate xtick labels\n",
    "ab.set_xticklabels(ab.get_xticklabels(),rotation = 40, ha ='right', fontsize = 12 );\n",
    "#Give labels to axis\n",
    "plt.xlabel('Directors', fontsize = 18);\n",
    "plt.ylabel('Popularity Score', fontsize = 18);\n",
    "plt.title('Most Famous Directors in Drama by Popularity Score', fontsize = 18);"
   ]
  },
  {
   "cell_type": "markdown",
   "metadata": {},
   "source": [
    "### Christopher Nolan is Most Popular Director in Drama among all."
   ]
  },
  {
   "cell_type": "code",
   "execution_count": null,
   "metadata": {},
   "outputs": [],
   "source": [
    "#set figure size\n",
    "plt.figure(figsize = (17,6))\n",
    "ag=sns.pointplot(x=\"release_year\", y=\"gross_profit_adj\", data=movies);\n",
    "#Rotate xtick labels\n",
    "ag.set_xticklabels(ag.get_xticklabels(), rotation = 40,ha='right', fontsize = 9);\n",
    "#Give labels to axis\n",
    "plt.xlabel('Years',fontsize = 18);\n",
    "plt.ylabel('Gross Profit',fontsize = 18);\n",
    "plt.title('Gross Profit Over the years',fontsize = 18);"
   ]
  },
  {
   "cell_type": "markdown",
   "metadata": {},
   "source": [
    "### The year which earned highest profit was 1977 & the year which earned least of all is 1966."
   ]
  },
  {
   "cell_type": "code",
   "execution_count": null,
   "metadata": {},
   "outputs": [],
   "source": [
    "#set a figure size\n",
    "plt.figure(figsize = (17,6));\n",
    "\n",
    "sns.boxplot(x = 'release_month', y = 'vote_average' , data = movies);\n",
    "#Give labels to axis\n",
    "plt.xlabel('Months',fontsize = 18);\n",
    "plt.ylabel('Average Vote',fontsize = 18);\n",
    "plt.title('Votes received over Months',fontsize = 18);"
   ]
  },
  {
   "cell_type": "markdown",
   "metadata": {},
   "source": [
    "### 75% of the average votes received are from 3.8 to 6.7.In December & January more number of votes has been received."
   ]
  },
  {
   "cell_type": "markdown",
   "metadata": {},
   "source": [
    "### As per our analysis top 5 genres are Drama,Comedy,Action,Thriller,Romance. So it would be good idea to find the most used keywords in those genres."
   ]
  },
  {
   "cell_type": "markdown",
   "metadata": {},
   "source": [
    "> ### Wordcloud for Most common keywords used in Drama"
   ]
  },
  {
   "cell_type": "code",
   "execution_count": null,
   "metadata": {},
   "outputs": [],
   "source": [
    "stopwords = set(STOPWORDS)\n",
    "cloud = WordCloud(width=800, height=400,background_color=\"white\", max_words=50,stopwords=stopwords)\n",
    "plt.figure( figsize=(20,10) );\n",
    "\n",
    "\n",
    "positive_cloud = cloud.generate(genres_keywords.loc[genres_keywords['genres'] == 'Drama', 'keywords'].str.cat(sep='\\n'));\n",
    "\n",
    "plt.imshow(positive_cloud);\n",
    "plt.axis(\"off\");\n",
    "plt.imshow(cloud);\n",
    "plt.show();"
   ]
  },
  {
   "cell_type": "markdown",
   "metadata": {},
   "source": [
    "### Wordcloud shows us independent,novel woman,biography,new york,murder,sex prison,world war,secret are common keywords used in Drama."
   ]
  },
  {
   "cell_type": "markdown",
   "metadata": {},
   "source": [
    "> ### Wordcloud for Most common keywords used in Action."
   ]
  },
  {
   "cell_type": "code",
   "execution_count": null,
   "metadata": {},
   "outputs": [],
   "source": [
    "stopwords = set(STOPWORDS)\n",
    "#set width height background color maximum words on wordcloud\n",
    "cloud = WordCloud(width=800, height=400,background_color=\"white\", max_words=50,stopwords=stopwords)\n",
    "#set figure size\n",
    "plt.figure( figsize=(20,10))\n",
    "#select Action genre from dataframe,generate a wordcloud of keywords used in action genre\n",
    "action_cloud = cloud.generate(genres_keywords.loc[genres_keywords['genres'] == 'Action', 'keywords'].str.cat(sep='\\n'));\n",
    "\n",
    "plt.imshow(action_cloud);\n",
    "#remove axis\n",
    "plt.axis(\"off\");\n",
    "plt.imshow(cloud);\n",
    "plt.show();"
   ]
  },
  {
   "cell_type": "markdown",
   "metadata": {},
   "source": [
    "### Above wordcloud shows us most commonly used words in Action Genre."
   ]
  },
  {
   "cell_type": "markdown",
   "metadata": {},
   "source": [
    "> ### Wordcloud for Most common keywords used in Adventure."
   ]
  },
  {
   "cell_type": "code",
   "execution_count": null,
   "metadata": {},
   "outputs": [],
   "source": [
    "stopwords = set(STOPWORDS)\n",
    "#set width height background color maximum words on wordcloud\n",
    "cloud = WordCloud(width=800, height=400,background_color=\"white\",stopwords=stopwords)\n",
    "#set figure size\n",
    "plt.figure( figsize=(20,10) );\n",
    "\n",
    "#select Adventure genre from dataframe,generate a wordcloud of keywords used in adventure genre\n",
    "adventure_cloud = cloud.generate(genres_keywords.loc[genres_keywords['genres'] == 'Adventure', 'keywords'].str.cat(sep='\\n'))\n",
    "\n",
    "#Generate Plot\n",
    "plt.imshow(adventure_cloud);\n",
    "plt.axis(\"off\");\n",
    "plt.imshow(cloud);\n",
    "plt.show();"
   ]
  },
  {
   "cell_type": "markdown",
   "metadata": {},
   "source": [
    "### Most frequently used words in Adventure Genre are Magic,Novel,Space,Alien,dystopia"
   ]
  },
  {
   "cell_type": "markdown",
   "metadata": {},
   "source": [
    "> ### Most Popular words used in a tagline"
   ]
  },
  {
   "cell_type": "code",
   "execution_count": null,
   "metadata": {},
   "outputs": [],
   "source": [
    "#set width height background color maximum words on wordcloud\n",
    "plt.figure(figsize = (20,10))\n",
    "stopwords = set(STOPWORDS)\n",
    "tagline_cloud = WordCloud(width=800, height=400,background_color=\"white\",stopwords=stopwords).generate(movies['tagline'].str.cat(sep = '\\n'))\n",
    "\n",
    "# Generate plot\n",
    "plt.axis(\"off\")\n",
    "plt.imshow(tagline_cloud)\n",
    "plt.show()\n"
   ]
  },
  {
   "cell_type": "markdown",
   "metadata": {},
   "source": [
    "### Above wordcloud shows most frequently used words in tagline"
   ]
  },
  {
   "cell_type": "markdown",
   "metadata": {},
   "source": [
    "<a id='conclusions'></a>\n",
    "## Conclusions"
   ]
  },
  {
   "cell_type": "markdown",
   "metadata": {},
   "source": [
    "> **As per my overall analysis I have found**\n",
    "\n",
    "**Trend of releasing movies has increased over the years. **\n",
    "\n",
    "**Frequent Runtimes are from 92 sec to 150 sec**\n",
    "\n",
    "**Drama,Action,Thriller,Romance,Horror are most popular geners**\n",
    "\n",
    "**By popularity Score**\n",
    "\n",
    "> Most Popular Movie is Jurrassic World\n",
    "\n",
    "> Most Famous Genre is Drama\n",
    "\n",
    "**Highest gross Profit earned**\n",
    "\n",
    ">**Director** Steven Spielberg \n",
    "\n",
    ">**Movie** Star Wars\n",
    "\n",
    ">**Cast** Harrison Ford\n",
    "\n",
    ">**Production Company** Twentieth Century Fox Film Corporation\n",
    "\n",
    "**By Average Votes**\n",
    "\n",
    ">**Popular Movie** The Jinx:The Life and Deaths of Robert Durst\n",
    "\n",
    ">**Popular Cast** Tina Weymouth\n",
    "\n",
    "**I have found the results of popular movies,popular cast based on popularity score,budget,revenue,average votes received but the analysis could have been more informative if data also has details of awards received by actors or actress**\n",
    "\n",
    "**Data doesn't contain any information such as movies recommended for kids,providing this data could have been useful to get information about movies,cast & genres which are famous among kids.**\n",
    "\n",
    "**We can do additional research on Tagline & overview of movies to understand how movies emotion changes according to genres**\n",
    "\n",
    "**Finally the dataset given to me was of 10886 rows in total but it contained lot of missing values & some movies runtime values,budget,revenue was zero so I had to delete such rows after doing all the cleaning the data left was of 7028 rows that means I lost apprx 3000 rows which would have definitely helped me in my findings if the information it contained wasn't false.** "
   ]
  },
  {
   "cell_type": "code",
   "execution_count": null,
   "metadata": {},
   "outputs": [],
   "source": [
    "from subprocess import call\n",
    "call(['python', '-m', 'nbconvert', 'Investigate_TMDb_Dataset.ipynb'])"
   ]
  },
  {
   "cell_type": "code",
   "execution_count": null,
   "metadata": {},
   "outputs": [],
   "source": []
  }
 ],
 "metadata": {
  "kernelspec": {
   "display_name": "Python 3 (ipykernel)",
   "language": "python",
   "name": "python3"
  },
  "language_info": {
   "codemirror_mode": {
    "name": "ipython",
    "version": 3
   },
   "file_extension": ".py",
   "mimetype": "text/x-python",
   "name": "python",
   "nbconvert_exporter": "python",
   "pygments_lexer": "ipython3",
   "version": "3.11.5"
  }
 },
 "nbformat": 4,
 "nbformat_minor": 4
}
