














# General
import pandas as pd
import numpy as np

import matplotlib.pyplot as plt

# modelling
from sklearn.model_selection import train_test_split
from sklearn.feature_extraction.text import CountVectorizer, TfidfTransformer, TfidfVectorizer

# Visualization
import seaborn as sns
import matplotlib.pyplot as plt






import warnings
warnings.filterwarnings("ignore")

import sys
sys.path.append('/Users/ayushyapare/Desktop/Ayushya/Snippets')

from DataFrame_Analysis import analyze_dataframe





plt.style.use("ggplot")











# import the dataset
df = pd.read_csv('../data/raw/adult.csv')





# Basic:
# 1. Shape
# 2. Columns - look for artifacts in column name
# 3. Info - look for appropriate datatypes 
# 4. Describe - look for min max mean and std. 


df.shape


df.columns


# some columns have a '.' in the column name (must correct)
# 


df.info()


df.describe()


# Initial observations


# Find duplicate values and remove duplicates
# Find missing values
# Find wrong values like ?, none, -, etc. 
# fill with 'unknown'

#----------------------
# In any column - group some values to new cateories
# 
# ---------------------
# If there is a date time column, then extract the day, month and year separately
# as object datatypes
#----------------------
# Some columns can be dropped
# Some columns have unwanted space ' ' in the name, remove if that is the case
#-----------------------
# After the cleaning save the cleaned dataframe in csv format



# Check for missing values in the DataFrame
df.isnull().sum()


# Remove duplicate rows from the DataFrame
df_cleaned = df.drop_duplicates()



# Replace incorrect or placeholder values with 'unknown'
incorrect_values = ['?', 'none', '-', 'N/A', 'nan', 'NULL']
df_cleaned.replace(incorrect_values, 'unknown', inplace=True)



# Replace 'col_name' with the actual column name and adjust the mapping as needed
group_mapping = {
    'value1': 'category1',
    'value2': 'category2',
}
# col_name = 
df_cleaned['col_name'] = df_cleaned['col_name'].map(group_mapping).fillna(df_cleaned['col_name'])



# Convert the 'datetime_col' to datetime if not already in datetime format
df_cleaned['datetime_col'] = pd.to_datetime(df_cleaned['datetime_col'], errors='coerce')

# Extract day, month, and year as separate columns
df_cleaned['day'] = df_cleaned['datetime_col'].dt.day.astype('str')
df_cleaned['month'] = df_cleaned['datetime_col'].dt.month.astype('str')
df_cleaned['year'] = df_cleaned['datetime_col'].dt.year.astype('str')



# Drop unwanted columns
columns_to_drop = ['col1', 'col2', 'col3'] 
df_cleaned.drop(columns=columns_to_drop, inplace=True)


# Remove leading and trailing spaces from column names
df_cleaned.columns = df_cleaned.columns.str.strip()



# Save the cleaned DataFrame to a CSV file
df_cleaned.to_csv('../data/processed/adult.csv', index=False)


# Advanced (Separate categorical and numerical)
# 1. value counts | Unique values | Missing values
# 2. Explore column of interest
#    1. Hist / Countplot
#    2. Boxplot


from IPython.display import display

# Separate categorical and numeric columns
cat_col = df.select_dtypes(include=['object', 'category'])
num_col = df.select_dtypes(include=['number'])

# Display categorical columns
for col in cat_col.columns:
    print(f"--------------------{col.title()}-------------------------")
    display(df[col].value_counts())
    fig, ax = plt.subplots(figsize=(6, 4))
    sns.countplot(x=col, data=df, ax=ax)
    ax.set_xlabel(col, fontsize=12)
    ax.set_ylabel('Value', fontsize=12)
    plt.xticks(rotation=90)
    plt.show()

# Display numerical columns
for col in num_col.columns:
    print(f"--------------------{col.title()}-------------------------")
    fig, axes = plt.subplots(1, 2, figsize=(14, 4))
    
    # Histogram
    axes[0].hist(df[col], bins=30, edgecolor='k')
    axes[0].set_xlabel(col, fontsize=12)
    axes[0].set_ylabel('Frequency', fontsize=12)
    
    # Boxplot
    sns.boxplot(x=col, data=df, ax=axes[1])
    axes[1].set_xlabel(col, fontsize=12)
    
    plt.show()


































