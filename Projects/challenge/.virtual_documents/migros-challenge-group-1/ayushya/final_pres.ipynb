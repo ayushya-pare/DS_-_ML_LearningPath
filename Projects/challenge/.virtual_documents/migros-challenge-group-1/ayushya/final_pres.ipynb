


import pandas as pd
from pandas import json_normalize
import json
import plotly.io as pio

import plotly.graph_objects as go
import plotly.express as px
import pandas as pd
from plotly.subplots import make_subplots

import warnings
warnings.filterwarnings('ignore')



# Read the JSON file
with open('./all-migros-stores.json', 'r') as file:
    store_data = json.load(file)



# Extract relevant information from the Migros JSON 

# Initialize lists to store extracted information
ids = []
latitudes = []
longitudes = []
addresses = []
zip_codes = []
cities = []

for entry in store_data:
    ids.append(entry['id'])
    latitudes.append(entry['location']['geo']['lat'])
    longitudes.append(entry['location']['geo']['lon'])
    addresses.append(entry['location']['address'])
    zip_codes.append(entry['location']['zip'])
    cities.append(entry['location']['city'])

# Create a DataFrame
df_stores = pd.DataFrame({
    'id': ids,
    'latitude': latitudes,
    'longitude': longitudes,
    'address': addresses,
    'zip_code': zip_codes,
    'city':cities
})

# Display the DataFrame
df_stores.head(3)






df_stores_A3 = df_stores[df_stores['zip_code'].str.startswith(('41','42','43','44','50','51','52','53','54'))]
df_stores_A3.head(3)






import requests
from bs4 import BeautifulSoup

url = "https://www.socarenergy.ch/en/private/petrol-station.html"
#print(url)

headers = {
    'User-Agent': 'all users'}
response = requests.get(url, headers=headers)
soup = BeautifulSoup(response.content, 'html.parser')

#all_results = soup.find_all('ul')
all_stations = soup.find_all('div',{'class':'accordion-wrap animate'})

all_stations_info = []
for idx in range(len(all_stations)):
    name = all_stations[idx].find('h5').get_text()
    address = all_stations[idx].find_all('span',{'class':'lead'})[1].get_text()
    zip = all_stations[idx].find_all('span',{'class':'lead'})[2].get_text().split(' ')[0]
    city = all_stations[idx].find_all('span',{'class':'lead'})[2].get_text().split(' ')[1]
    migrolino_ = all_stations[idx].find_all('li',{'data-field':'migrolino'})
    cafe_ = all_stations[idx].find_all('li',{'data-field':'cafe'})
    
    if len(migrolino_) == 1:
        migrolino = 'Yes'
    else:
        migrolino = 'No'
    
    if len(cafe_) == 1:
        other = 'Yes'
    else:
        other = 'No'
        
    all_info = {
        'Station name' : name,
        'Address' : address,
        'zip' : zip,
        'city': city,
        'Migrolino': migrolino,
        'Other Store' : other
    }
    all_stations_info.append(all_info)

#call_stations_info

df_tank_stations = pd.DataFrame(all_stations_info,index=None)

df_tank_stations['full_address'] = df_tank_stations['Address'] + ' ' + df_tank_stations['zip'] + ' ' + df_tank_stations['city']

df_tank_stations_A3 = df_tank_stations[df_tank_stations['zip'].str.startswith(('40','41','42','43','44','5070','52','54'))]

df_tank_stations_A3.head(3)





from geopy.geocoders import Nominatim

# Create an instance of the Nominatim geocoder
geolocator = Nominatim(user_agent="http")

# Define the geocode_address function
def geocode_address(address):
    location = geolocator.geocode(address)
    if location:
        return location.latitude, location.longitude
    else:
        return None, None

# Assuming df_tank_stations_A3['full_address'] contains addresses
# Apply geocoding function to DataFrame
df_tank_stations_A3['Coordinates'] = df_tank_stations_A3['full_address'].apply(geocode_address)

# Function to extract values from tuple
def extract_values(coordinates):
    if coordinates == (None, None):
        return None,None
    else:
        return coordinates[0], coordinates[1]

# Apply function to create two new columns
df_tank_stations_A3[['Latitude', 'Longitude']] = df_tank_stations_A3['Coordinates'].apply(lambda x: pd.Series(extract_values(x)))

#df_tank_stations_A3.head(3)





# Filter DataFrame for 'Yes' and 'No' categories
df_yes = df_tank_stations_A3[df_tank_stations_A3['Migrolino'] == 'Yes']
df_no = df_tank_stations_A3[df_tank_stations_A3['Migrolino'] == 'No']


import plotly.graph_objects as go

# Create a new figure
fig = go.Figure()

# Add traces for gas stations with Migrolino (Yes)
fig.add_trace(
    go.Scattermapbox(
        lat=df_yes['Latitude'],
        lon=df_yes['Longitude'],
        mode='markers',
        marker=dict(
            size=10,
            symbol='circle',
            color='blue',
        ),
        hoverinfo='text',
        hovertext=df_yes['Station name'],
        name='TS with Migrolino'
    )
)

# Add traces for gas stations without Migrolino (No)
fig.add_trace(
    go.Scattermapbox(
        lat=df_no['Latitude'],
        lon=df_no['Longitude'],
        mode='markers',
        marker=dict(
            size=10,
            symbol='circle',
            color='Green',
        ),
        hoverinfo='text',
        hovertext=df_no['Station name'],
        name='TS without a store'
    )
)

# Add traces for Migros stores
fig.add_trace(
    go.Scattermapbox(
        lat=df_stores_A3['latitude'],
        lon=df_stores_A3['longitude'],
        mode='markers',
        marker=dict(
            size=8,
            color='coral',
            opacity = 0.7,
        ),
        hoverinfo='text',
        hovertext=df_stores_A3['city'],
        name='Migros Stores'
    )
)

# Update layout with title
fig.update_layout(
    title='Gas Stations and Migros Stores Overlay',
    mapbox=dict(
        style="carto-positron",
        zoom=9,
        center=dict(lat=47.443730, lon=7.6071223),
    ),
    #height = 800,
    margin={"r":0,"t":30,"l":0,"b":0},  # Adjust margins to accommodate the title
)

# Show the figure
fig.show()






Potential_migros_df = df_tank_stations_A3.loc[(df_tank_stations_A3['Migrolino'] == 'No') & (df_tank_stations_A3['Other Store'] == 'No')]
Potential_migros_df.head(3)








# Load the CSV file
df_echarging = pd.read_csv('100005.csv', sep=';')
df_echarging = df_echarging[['name','geo_point_2d']]

# Postprocessing
df_echarging['geo_point_2d'].drop_duplicates(keep='first',inplace=True)
df_echarging.loc[df_echarging['geo_point_2d'].isna() == True]

# Split the 'geo_point_2d' column into latitude and longitude
df_echarging[['latitude', 'longitude']] = df_echarging['geo_point_2d'].str.split(', ', expand=True)
df_echarging.head(3)





# Migros stores in and around Basel
df_stores_BS = df_stores[df_stores['zip_code'].str.startswith(('41','42'))]

# Create Scattermapbox trace for df_stores_BS
trace_stores = go.Scattermapbox(
    lat=df_stores_BS['latitude'],
    lon=df_stores_BS['longitude'],
    mode='markers',
    marker=dict(
        size=10, 
        color='coral'),
    text=df_stores_BS['address'],
    name='Migros Stores'
)

# Create Scattermapbox trace for df_echarging
trace_echarging = go.Scattermapbox(
    lat=df_echarging['latitude'],
    lon=df_echarging['longitude'],
    mode='markers',
    marker=dict(size=10, symbol='circle', color='green'),
    text=df_echarging['name'],
    name='E charging stations'
)

# Create layout for the map
layout = go.Layout(
    title='Overlay of Migros stores and E Charging stations', 
    mapbox=dict(
        style="carto-positron",
        zoom=12,
        center=dict(lat=47.543730, lon=7.6071223),
    ),
    margin={"r":0,"t":30,"l":0,"b":0},
)

# Create the figure
fig_combined = go.Figure(data=[trace_stores, trace_echarging], layout=layout)

# Show the plot
fig_combined.show()




